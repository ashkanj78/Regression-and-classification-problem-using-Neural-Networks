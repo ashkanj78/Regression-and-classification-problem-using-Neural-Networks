{
  "cells": [
    {
      "cell_type": "markdown",
      "metadata": {
        "id": "MfTFVJ8z-_HR"
      },
      "source": [
        "***Importing Libraries***\n",
        "\n",
        "Using Several Links and Sources:\n",
        "\n",
        "1) https://towardsdatascience.com/building-neural-network-from-scratch-9c88535bf8e9\n",
        "2) Andrew NG - Deep learning MIT CA"
      ]
    },
    {
      "cell_type": "code",
      "execution_count": null,
      "metadata": {
        "id": "W2Uv36n5ynbW"
      },
      "outputs": [],
      "source": [
        "from math import sin,pi\n",
        "from math import pi\n",
        "import numpy as np\n",
        "import matplotlib.pyplot as plt\n",
        "import random"
      ]
    },
    {
      "cell_type": "markdown",
      "metadata": {
        "id": "3pnxSza48v1n"
      },
      "source": [
        "***MLP Class***"
      ]
    },
    {
      "cell_type": "code",
      "execution_count": null,
      "metadata": {
        "id": "gZSLf4a49OIQ"
      },
      "outputs": [],
      "source": [
        "random.seed(10)\n",
        "class Multi_Layer_Perceptron: #Multi Layer with one hidden layer\n",
        "    def __init__(self, learningrate, numofneurons):\n",
        "        \n",
        "        self.learningrate = learningrate\n",
        "        self.numofneurons = numofneurons\n",
        "        self.output = np.zeros(1) \n",
        "          #Hidden layer\n",
        "        self.w1 = np.random.rand(2, self.numofneurons)\n",
        "        self.b1 = np.zeros((self.numofneurons, 1))\n",
        "          #Out Layer\n",
        "        self.w2 = np.random.rand(self.numofneurons,1)\n",
        "        self.b2 = np.zeros((1, 1))\n",
        "\n",
        "    def ReLU(self, x, diff):\n",
        "      if diff == 0:\n",
        "        return np.maximum(0, x)\n",
        "      else:\n",
        "        x[x<=0] = 0\n",
        "        x[x>0] = 1\n",
        "        return x\n",
        "    \n",
        "    def train(self, x, y, x_valid, y_valid, epochs):\n",
        "        \n",
        "        train_cal_cost = {}\n",
        "        validation_cal_cost = {}\n",
        "\n",
        "        for i in range(epochs):\n",
        "            epoch_train_loss = 0\n",
        "            epoch_validation_loss = 0\n",
        "            for j in range(len(x)):\n",
        "                self.input = x[j]\n",
        "                self.Forward()\n",
        "                self.Backward(y[j])\n",
        "                epoch_train_loss += self.cost(self.output, y[j])\n",
        "\n",
        "            for j in range(len(x_valid)):\n",
        "                self.input = x_valid[j]\n",
        "                self.Forward()\n",
        "                epoch_validation_loss += self.cost(self.output, y_valid[j])\n",
        "      \n",
        "            train_cal_cost[i] = float(epoch_train_loss / len(x))\n",
        "            validation_cal_cost[i] = float(epoch_validation_loss / len(x_valid))\n",
        "            print('Epoch %d : Train loss = %f - Validation loss = %f' % (i, train_cal_cost[i], validation_cal_cost[i]))\n",
        "\n",
        "\n",
        "        return train_cal_cost, validation_cal_cost\n",
        "\n",
        "    def Forward(self):\n",
        "        self.slayer = np.dot(self.w1.T, self.input) + self.b1\n",
        "        self.zlayer = self.ReLU(self.slayer,diff = 0)\n",
        "        self.output = np.dot(self.w2.T, self.zlayer) + self.b2\n",
        "  \n",
        "    def Backward(self, y):\n",
        "        #Out Layer\n",
        "        d_ye = 2 * (self.output - y)\n",
        "        d_b2 = d_ye\n",
        "        d_w2 = np.dot(self.zlayer, d_ye)\n",
        "        #Hidden layer\n",
        "        w2_s = np.dot(self.w2, self.ReLU(self.slayer,diff = 1).T)\n",
        "        weight_changes = [[1] for _ in range(self.numofneurons)]\n",
        "        w2_s_weight=np.dot(w2_s, np.array(weight_changes))\n",
        "        d_b1 = np.dot(w2_s_weight, d_ye)\n",
        "\n",
        "        \n",
        "        dye_w2=np.multiply(d_ye * self.ReLU(self.slayer, diff = 1),self.w2)\n",
        "        x_r = np.repeat(self.input, self.numofneurons, axis=1)\n",
        "        d_w1 = x_r.dot(dye_w2) * d_ye\n",
        "        #Hidden Layer\n",
        "        self.w1 -= self.learningrate * d_w1\n",
        "        self.b1 -= self.learningrate * d_b1\n",
        "        #Out layer\n",
        "        self.w2 -= self.learningrate * d_w2\n",
        "        self.b2 -= self.learningrate * d_b2\n",
        "\n",
        "    def cost(self, y, ye): \n",
        "        return np.power(y - ye, 2)\n",
        "\n",
        "    def expected (self, x):\n",
        "        ye = []\n",
        "        for i in range(x.shape[0]):\n",
        "            self.input = x[i]\n",
        "            self.Forward()\n",
        "            ye.append(self.output)\n",
        "        return ye"
      ]
    },
    {
      "cell_type": "markdown",
      "metadata": {
        "id": "sBIBSAaGbDoh"
      },
      "source": [
        "***DATA GENERATING & PREPROCESSING & LOSS FUNCTIONS***"
      ]
    },
    {
      "cell_type": "code",
      "execution_count": null,
      "metadata": {
        "id": "OTiGxHlMbalc"
      },
      "outputs": [],
      "source": [
        "def sin(x1, x2):\n",
        "    return np.sin(x1+x2)\n",
        " \n",
        "random.seed(10)\n",
        "def sin_data_generating(x_train):\n",
        "  sampling = 1000\n",
        "  x = np.linspace(0, 2*(np.pi), sampling).reshape((sampling, 1))\n",
        "  x_n = np.append(x, np.zeros((len(x), 1)), axis = 1).reshape(sampling, 2, 1)\n",
        "  range = np.max(x_train) - np.min(x_train)\n",
        "  x_norm = (x_n -  np.min(x_train)) / range\n",
        "  return x, x_norm\n",
        "  \n",
        "def generating(on,num_data):\n",
        "  y_vals, x1_vals ,x2_vals= [],[],[]\n",
        "\n",
        "  for i in range(0, num_data):\n",
        "      x1 = (random.uniform(0, 2*pi))\n",
        "      if (on==1):\n",
        "        x2 = (random.uniform(0, 2*pi))\n",
        "      else:\n",
        "        x2 = 0\n",
        "      x1_vals.append(x1)\n",
        "      x2_vals.append(x2)\n",
        "      y_vals.append(sin(x1_vals[i],x2_vals[i]))\n",
        "  x_vals = []\n",
        "  for i in range(len(x1_vals)):\n",
        "      x_vals.append((x1_vals[i], x2_vals[i]))\n",
        "  x_vals = np.reshape(np.array(x_vals), (num_data, 2, 1))\n",
        "  y_vals = np.reshape(np.array(y_vals), (num_data, 1))\n",
        "  return  x_vals,y_vals\n",
        "    \n",
        "def splitting(x_values, y_values):\n",
        "    \n",
        "    numofrow = x_values.shape[0]\n",
        "    tIndex = int(80 / 100 * numofrow) \n",
        "    valIndex = int(90 / 100 * numofrow)\n",
        "    x_train = x_values[:tIndex, :] \n",
        "    y_train = y_values[:tIndex] \n",
        "    x_validation = x_values[tIndex:valIndex, :] \n",
        "    y_validation = y_values[tIndex:valIndex] \n",
        "    x_test = x_values[valIndex:, :] \n",
        "    y_test = y_values[valIndex:] \n",
        "\n",
        "    return x_train, y_train, x_validation, y_validation, x_test, y_test\n",
        "\n",
        "def normalizing(train,valid,test,range,min_data):\n",
        "    n_train = (train - min_data) / range\n",
        "    n_valid = (valid - min_data) / range\n",
        "    n_test = (test - min_data) / range\n",
        "    return n_train, n_valid, n_test\n",
        "\n",
        "def L2_Loss(y1, y2):\n",
        "    dy = y1 - y2\n",
        "    dy_2 = np.sum(np.power(dy, 2))\n",
        "    y_shape = y1.shape[0]\n",
        "    return dy_2 / y_shape"
      ]
    },
    {
      "cell_type": "markdown",
      "metadata": {
        "id": "oE-TpzH2HsDq"
      },
      "source": [
        "***Loss and Cost Visualizer Function***"
      ]
    },
    {
      "cell_type": "code",
      "execution_count": null,
      "metadata": {
        "id": "Fll1M1x_sYr3"
      },
      "outputs": [],
      "source": [
        "def plot_loss(train_cost, valid_loss, numofepoch):\n",
        "\n",
        "    plt.plot(list(train_cost.keys()), list(train_cost.values()), 'b', label='Train Loss')\n",
        "    plt.plot(list(valid_loss.keys()), list(valid_loss.values()), 'r', label='Validation Loss')\n",
        "    plt.legend(loc=\"upper right\")\n",
        "    plt.title(\"Train Loss\")\n",
        "    plt.xlabel(\"Epoch\")\n",
        "    plt.ylabel(\"Loss\")\n",
        "    plt.show()"
      ]
    },
    {
      "cell_type": "markdown",
      "metadata": {
        "id": "TyvJtNyi-b0j"
      },
      "source": [
        "***DATA RUN***"
      ]
    },
    {
      "cell_type": "code",
      "execution_count": null,
      "metadata": {
        "id": "W1yE6nvT-ZqG"
      },
      "outputs": [],
      "source": [
        "x_values, y_values=generating(on=1,num_data = 10000)\n",
        "x_train, y_train, x_validation, y_validation, x_test, y_test = splitting(x_values, y_values)\n",
        "x_train, x_validation, x_test  = normalizing(x_train, x_validation, x_test, np.max(x_train) - np.min(x_train) , np.min(x_train))"
      ]
    },
    {
      "cell_type": "markdown",
      "metadata": {
        "id": "08_GhakHItQn"
      },
      "source": [
        "***FIT MODEL***"
      ]
    },
    {
      "cell_type": "code",
      "execution_count": null,
      "metadata": {
        "colab": {
          "base_uri": "https://localhost:8080/"
        },
        "id": "VmT_Gn8uZO-d",
        "outputId": "9ee85317-7999-40a3-daee-baf7fcdb88f3"
      },
      "outputs": [
        {
          "name": "stdout",
          "output_type": "stream",
          "text": [
            "Epoch 0/100 : Train loss = 0.506319 - Validation loss = 0.514927\n",
            "Epoch 1/100 : Train loss = 0.505518 - Validation loss = 0.514858\n",
            "Epoch 2/100 : Train loss = 0.505645 - Validation loss = 0.514815\n",
            "Epoch 3/100 : Train loss = 0.505504 - Validation loss = 0.514767\n",
            "Epoch 4/100 : Train loss = 0.506157 - Validation loss = 0.514816\n",
            "Epoch 5/100 : Train loss = 0.505998 - Validation loss = 0.514351\n",
            "Epoch 6/100 : Train loss = 0.505712 - Validation loss = 0.514590\n",
            "Epoch 7/100 : Train loss = 0.505382 - Validation loss = 0.514894\n",
            "Epoch 8/100 : Train loss = 0.505344 - Validation loss = 0.514753\n",
            "Epoch 9/100 : Train loss = 0.505371 - Validation loss = 0.514792\n",
            "Epoch 10/100 : Train loss = 0.504753 - Validation loss = 0.513815\n",
            "Epoch 11/100 : Train loss = 0.505423 - Validation loss = 0.515112\n",
            "Epoch 12/100 : Train loss = 0.505388 - Validation loss = 0.513751\n",
            "Epoch 13/100 : Train loss = 0.504846 - Validation loss = 0.514630\n",
            "Epoch 14/100 : Train loss = 0.504890 - Validation loss = 0.513938\n",
            "Epoch 15/100 : Train loss = 0.504164 - Validation loss = 0.512967\n",
            "Epoch 16/100 : Train loss = 0.503193 - Validation loss = 0.511974\n",
            "Epoch 17/100 : Train loss = 0.502031 - Validation loss = 0.510944\n",
            "Epoch 18/100 : Train loss = 0.500681 - Validation loss = 0.508771\n",
            "Epoch 19/100 : Train loss = 0.498926 - Validation loss = 0.506705\n",
            "Epoch 20/100 : Train loss = 0.496788 - Validation loss = 0.503797\n",
            "Epoch 21/100 : Train loss = 0.494579 - Validation loss = 0.501793\n",
            "Epoch 22/100 : Train loss = 0.492618 - Validation loss = 0.500030\n",
            "Epoch 23/100 : Train loss = 0.491130 - Validation loss = 0.498942\n",
            "Epoch 24/100 : Train loss = 0.490137 - Validation loss = 0.498605\n",
            "Epoch 25/100 : Train loss = 0.489436 - Validation loss = 0.498158\n",
            "Epoch 26/100 : Train loss = 0.488967 - Validation loss = 0.497951\n",
            "Epoch 27/100 : Train loss = 0.488648 - Validation loss = 0.497779\n",
            "Epoch 28/100 : Train loss = 0.488388 - Validation loss = 0.497493\n",
            "Epoch 29/100 : Train loss = 0.488141 - Validation loss = 0.497602\n",
            "Epoch 30/100 : Train loss = 0.487842 - Validation loss = 0.497421\n",
            "Epoch 31/100 : Train loss = 0.487593 - Validation loss = 0.497889\n",
            "Epoch 32/100 : Train loss = 0.487392 - Validation loss = 0.498048\n",
            "Epoch 33/100 : Train loss = 0.487233 - Validation loss = 0.498003\n",
            "Epoch 34/100 : Train loss = 0.487059 - Validation loss = 0.498048\n",
            "Epoch 35/100 : Train loss = 0.486763 - Validation loss = 0.498162\n",
            "Epoch 36/100 : Train loss = 0.486695 - Validation loss = 0.498763\n",
            "Epoch 37/100 : Train loss = 0.486684 - Validation loss = 0.498778\n",
            "Epoch 38/100 : Train loss = 0.486644 - Validation loss = 0.499045\n",
            "Epoch 39/100 : Train loss = 0.486594 - Validation loss = 0.498914\n",
            "Epoch 40/100 : Train loss = 0.486636 - Validation loss = 0.498988\n",
            "Epoch 41/100 : Train loss = 0.486623 - Validation loss = 0.498809\n",
            "Epoch 42/100 : Train loss = 0.486598 - Validation loss = 0.498820\n",
            "Epoch 43/100 : Train loss = 0.486573 - Validation loss = 0.498582\n",
            "Epoch 44/100 : Train loss = 0.486602 - Validation loss = 0.498738\n",
            "Epoch 45/100 : Train loss = 0.486618 - Validation loss = 0.498379\n",
            "Epoch 46/100 : Train loss = 0.486584 - Validation loss = 0.498119\n",
            "Epoch 47/100 : Train loss = 0.486580 - Validation loss = 0.497524\n",
            "Epoch 48/100 : Train loss = 0.486522 - Validation loss = 0.497272\n",
            "Epoch 49/100 : Train loss = 0.486493 - Validation loss = 0.496940\n",
            "Epoch 50/100 : Train loss = 0.486477 - Validation loss = 0.496647\n",
            "Epoch 51/100 : Train loss = 0.486412 - Validation loss = 0.496452\n",
            "Epoch 52/100 : Train loss = 0.486343 - Validation loss = 0.496116\n",
            "Epoch 53/100 : Train loss = 0.486264 - Validation loss = 0.495769\n",
            "Epoch 54/100 : Train loss = 0.486211 - Validation loss = 0.495379\n",
            "Epoch 55/100 : Train loss = 0.486125 - Validation loss = 0.495021\n",
            "Epoch 56/100 : Train loss = 0.486074 - Validation loss = 0.494680\n",
            "Epoch 57/100 : Train loss = 0.486053 - Validation loss = 0.494474\n",
            "Epoch 58/100 : Train loss = 0.486152 - Validation loss = 0.494645\n",
            "Epoch 59/100 : Train loss = 0.486383 - Validation loss = 0.494769\n",
            "Epoch 60/100 : Train loss = 0.486601 - Validation loss = 0.494924\n",
            "Epoch 61/100 : Train loss = 0.486640 - Validation loss = 0.494951\n",
            "Epoch 62/100 : Train loss = 0.486647 - Validation loss = 0.494967\n",
            "Epoch 63/100 : Train loss = 0.486716 - Validation loss = 0.495809\n",
            "Epoch 64/100 : Train loss = 0.486781 - Validation loss = 0.496468\n",
            "Epoch 65/100 : Train loss = 0.486944 - Validation loss = 0.496553\n",
            "Epoch 66/100 : Train loss = 0.487070 - Validation loss = 0.497027\n",
            "Epoch 67/100 : Train loss = 0.487276 - Validation loss = 0.497148\n",
            "Epoch 68/100 : Train loss = 0.487448 - Validation loss = 0.497294\n",
            "Epoch 69/100 : Train loss = 0.487664 - Validation loss = 0.497486\n",
            "Epoch 70/100 : Train loss = 0.487628 - Validation loss = 0.497451\n",
            "Epoch 71/100 : Train loss = 0.487648 - Validation loss = 0.497392\n",
            "Epoch 72/100 : Train loss = 0.487606 - Validation loss = 0.497235\n",
            "Epoch 73/100 : Train loss = 0.487538 - Validation loss = 0.497307\n",
            "Epoch 74/100 : Train loss = 0.487555 - Validation loss = 0.497180\n",
            "Epoch 75/100 : Train loss = 0.487517 - Validation loss = 0.497090\n",
            "Epoch 76/100 : Train loss = 0.487458 - Validation loss = 0.496997\n",
            "Epoch 77/100 : Train loss = 0.487391 - Validation loss = 0.496867\n",
            "Epoch 78/100 : Train loss = 0.487352 - Validation loss = 0.496816\n",
            "Epoch 79/100 : Train loss = 0.487326 - Validation loss = 0.496722\n",
            "Epoch 80/100 : Train loss = 0.487276 - Validation loss = 0.496597\n",
            "Epoch 81/100 : Train loss = 0.487220 - Validation loss = 0.496532\n",
            "Epoch 82/100 : Train loss = 0.487164 - Validation loss = 0.496455\n",
            "Epoch 83/100 : Train loss = 0.487138 - Validation loss = 0.496401\n",
            "Epoch 84/100 : Train loss = 0.487100 - Validation loss = 0.496345\n",
            "Epoch 85/100 : Train loss = 0.487071 - Validation loss = 0.496330\n",
            "Epoch 86/100 : Train loss = 0.487037 - Validation loss = 0.496278\n",
            "Epoch 87/100 : Train loss = 0.487046 - Validation loss = 0.496295\n",
            "Epoch 88/100 : Train loss = 0.486969 - Validation loss = 0.496273\n",
            "Epoch 89/100 : Train loss = 0.486995 - Validation loss = 0.496255\n",
            "Epoch 90/100 : Train loss = 0.487020 - Validation loss = 0.496158\n",
            "Epoch 91/100 : Train loss = 0.486998 - Validation loss = 0.496135\n",
            "Epoch 92/100 : Train loss = 0.486961 - Validation loss = 0.496047\n",
            "Epoch 93/100 : Train loss = 0.486839 - Validation loss = 0.495911\n",
            "Epoch 94/100 : Train loss = 0.486834 - Validation loss = 0.495769\n",
            "Epoch 95/100 : Train loss = 0.486722 - Validation loss = 0.495594\n",
            "Epoch 96/100 : Train loss = 0.486672 - Validation loss = 0.495514\n",
            "Epoch 97/100 : Train loss = 0.486578 - Validation loss = 0.495364\n",
            "Epoch 98/100 : Train loss = 0.486500 - Validation loss = 0.495255\n",
            "Epoch 99/100 : Train loss = 0.486432 - Validation loss = 0.495102\n"
          ]
        }
      ],
      "source": [
        "MLP = Multi_Layer_Perceptron(0.0015, 7)\n",
        "train_cost, validation_cost = MLP.train(x_train, y_train, x_validation, y_validation, epochs = 100)"
      ]
    },
    {
      "cell_type": "markdown",
      "metadata": {
        "id": "VJoSSldZ_V4B"
      },
      "source": [
        "***Observing Cost & Loss***"
      ]
    },
    {
      "cell_type": "code",
      "execution_count": null,
      "metadata": {
        "colab": {
          "base_uri": "https://localhost:8080/",
          "height": 313
        },
        "id": "I3oQmN_FizNp",
        "outputId": "72543155-53f6-4b6e-daf2-f95b9504e476"
      },
      "outputs": [
        {
          "data": {
            "image/png": "[encoded data removed]",
            "text/plain": [
              "<Figure size 432x288 with 1 Axes>"
            ]
          },
          "metadata": {
            "needs_background": "light"
          },
          "output_type": "display_data"
        },
        {
          "name": "stdout",
          "output_type": "stream",
          "text": [
            "Test Loss= 0.474417\n"
          ]
        }
      ],
      "source": [
        "#Time to plot our result:)\n",
        "plot_loss(train_cost,  validation_cost, numofepoch=100)\n",
        "ye = MLP.expected(x_test)\n",
        "print('Test Loss= %f' % L2_Loss(np.array(ye).reshape((len(ye), 1)), y_test))"
      ]
    },
    {
      "cell_type": "markdown",
      "metadata": {
        "id": "NxazG3m_y9Yu"
      },
      "source": [
        "***Ploting Sin by MLP***"
      ]
    },
    {
      "cell_type": "code",
      "execution_count": null,
      "metadata": {
        "colab": {
          "base_uri": "https://localhost:8080/"
        },
        "id": "QCl_vAURzAhP",
        "outputId": "2fbe68a1-be53-4376-f2ae-da8a5779b68a"
      },
      "outputs": [
        {
          "name": "stdout",
          "output_type": "stream",
          "text": [
            "[[[0.66806977]\n",
            "  [0.        ]]\n",
            "\n",
            " [[2.06143631]\n",
            "  [0.        ]]\n",
            "\n",
            " [[6.27018259]\n",
            "  [0.        ]]\n",
            "\n",
            " ...\n",
            "\n",
            " [[5.63374888]\n",
            "  [0.        ]]\n",
            "\n",
            " [[1.01876694]\n",
            "  [0.        ]]\n",
            "\n",
            " [[5.81790235]\n",
            "  [0.        ]]]\n"
          ]
        }
      ],
      "source": [
        "#generating Sin(x) data\n",
        "x_vals, y_vals = generating(on=0,num_data = 10000)\n",
        "#print(x_vals)\n",
        "#Now we should split to train and test\n",
        "x_train, y_train, x_validation, y_validation, x_test, y_test = splitting(x_vals, y_vals)\n",
        "#Normalizing Time\n",
        "x_train, x_validation, x_test  = normalizing(x_train, x_validation, x_test, np.max(x_train) - np.min(x_train) , np.min(x_train))"
      ]
    },
    {
      "cell_type": "code",
      "execution_count": null,
      "metadata": {
        "colab": {
          "base_uri": "https://localhost:8080/",
          "height": 1000
        },
        "id": "SkAVHbptsv2m",
        "outputId": "758df261-6732-46b6-c1cf-1d6288717248"
      },
      "outputs": [
        {
          "name": "stdout",
          "output_type": "stream",
          "text": [
            "Epoch 0/100 : Train loss = 0.359266 - Validation loss = 0.199509\n",
            "Epoch 1/100 : Train loss = 0.205706 - Validation loss = 0.172102\n",
            "Epoch 2/100 : Train loss = 0.176749 - Validation loss = 0.180996\n",
            "Epoch 3/100 : Train loss = 0.193814 - Validation loss = 0.262223\n",
            "Epoch 4/100 : Train loss = 0.242793 - Validation loss = 0.328992\n",
            "Epoch 5/100 : Train loss = 0.317970 - Validation loss = 0.364039\n",
            "Epoch 6/100 : Train loss = 0.400130 - Validation loss = 0.376863\n",
            "Epoch 7/100 : Train loss = 0.433745 - Validation loss = 0.360843\n",
            "Epoch 8/100 : Train loss = 0.400423 - Validation loss = 0.313661\n",
            "Epoch 9/100 : Train loss = 0.338387 - Validation loss = 0.254497\n",
            "Epoch 10/100 : Train loss = 0.279131 - Validation loss = 0.201660\n",
            "Epoch 11/100 : Train loss = 0.232262 - Validation loss = 0.164518\n",
            "Epoch 12/100 : Train loss = 0.196571 - Validation loss = 0.137541\n",
            "Epoch 13/100 : Train loss = 0.168715 - Validation loss = 0.120544\n",
            "Epoch 14/100 : Train loss = 0.147767 - Validation loss = 0.106672\n",
            "Epoch 15/100 : Train loss = 0.131212 - Validation loss = 0.094945\n",
            "Epoch 16/100 : Train loss = 0.117579 - Validation loss = 0.085520\n",
            "Epoch 17/100 : Train loss = 0.106213 - Validation loss = 0.076919\n",
            "Epoch 18/100 : Train loss = 0.096363 - Validation loss = 0.069126\n",
            "Epoch 19/100 : Train loss = 0.086534 - Validation loss = 0.061682\n",
            "Epoch 20/100 : Train loss = 0.076581 - Validation loss = 0.054589\n",
            "Epoch 21/100 : Train loss = 0.067809 - Validation loss = 0.049912\n",
            "Epoch 22/100 : Train loss = 0.060698 - Validation loss = 0.047430\n",
            "Epoch 23/100 : Train loss = 0.055727 - Validation loss = 0.045389\n",
            "Epoch 24/100 : Train loss = 0.052231 - Validation loss = 0.044008\n",
            "Epoch 25/100 : Train loss = 0.049614 - Validation loss = 0.043030\n",
            "Epoch 26/100 : Train loss = 0.047524 - Validation loss = 0.042288\n",
            "Epoch 27/100 : Train loss = 0.045776 - Validation loss = 0.041785\n",
            "Epoch 28/100 : Train loss = 0.044307 - Validation loss = 0.041487\n",
            "Epoch 29/100 : Train loss = 0.043040 - Validation loss = 0.040297\n",
            "Epoch 30/100 : Train loss = 0.041882 - Validation loss = 0.038934\n",
            "Epoch 31/100 : Train loss = 0.040856 - Validation loss = 0.037725\n",
            "Epoch 32/100 : Train loss = 0.039907 - Validation loss = 0.036639\n",
            "Epoch 33/100 : Train loss = 0.039026 - Validation loss = 0.035662\n",
            "Epoch 34/100 : Train loss = 0.038188 - Validation loss = 0.034767\n",
            "Epoch 35/100 : Train loss = 0.037389 - Validation loss = 0.033948\n",
            "Epoch 36/100 : Train loss = 0.036634 - Validation loss = 0.033201\n",
            "Epoch 37/100 : Train loss = 0.035942 - Validation loss = 0.032507\n",
            "Epoch 38/100 : Train loss = 0.035329 - Validation loss = 0.031873\n",
            "Epoch 39/100 : Train loss = 0.034774 - Validation loss = 0.031371\n",
            "Epoch 40/100 : Train loss = 0.034290 - Validation loss = 0.031046\n",
            "Epoch 41/100 : Train loss = 0.033929 - Validation loss = 0.030598\n",
            "Epoch 42/100 : Train loss = 0.033712 - Validation loss = 0.030091\n",
            "Epoch 43/100 : Train loss = 0.033679 - Validation loss = 0.030039\n",
            "Epoch 44/100 : Train loss = 0.033811 - Validation loss = 0.030493\n",
            "Epoch 45/100 : Train loss = 0.034089 - Validation loss = 0.031305\n",
            "Epoch 46/100 : Train loss = 0.034446 - Validation loss = 0.032087\n",
            "Epoch 47/100 : Train loss = 0.034739 - Validation loss = 0.032709\n",
            "Epoch 48/100 : Train loss = 0.034902 - Validation loss = 0.033060\n",
            "Epoch 49/100 : Train loss = 0.034939 - Validation loss = 0.033190\n",
            "Epoch 50/100 : Train loss = 0.034895 - Validation loss = 0.033146\n",
            "Epoch 51/100 : Train loss = 0.034807 - Validation loss = 0.032989\n",
            "Epoch 52/100 : Train loss = 0.034693 - Validation loss = 0.032775\n",
            "Epoch 53/100 : Train loss = 0.034571 - Validation loss = 0.032529\n",
            "Epoch 54/100 : Train loss = 0.034446 - Validation loss = 0.032288\n",
            "Epoch 55/100 : Train loss = 0.034326 - Validation loss = 0.032048\n",
            "Epoch 56/100 : Train loss = 0.034210 - Validation loss = 0.031812\n",
            "Epoch 57/100 : Train loss = 0.034103 - Validation loss = 0.031603\n",
            "Epoch 58/100 : Train loss = 0.034010 - Validation loss = 0.031418\n",
            "Epoch 59/100 : Train loss = 0.033930 - Validation loss = 0.031266\n",
            "Epoch 60/100 : Train loss = 0.033862 - Validation loss = 0.031125\n",
            "Epoch 61/100 : Train loss = 0.033801 - Validation loss = 0.031008\n",
            "Epoch 62/100 : Train loss = 0.033753 - Validation loss = 0.030908\n",
            "Epoch 63/100 : Train loss = 0.033715 - Validation loss = 0.030824\n",
            "Epoch 64/100 : Train loss = 0.033681 - Validation loss = 0.030750\n",
            "Epoch 65/100 : Train loss = 0.033651 - Validation loss = 0.030685\n",
            "Epoch 66/100 : Train loss = 0.033623 - Validation loss = 0.030625\n",
            "Epoch 67/100 : Train loss = 0.033599 - Validation loss = 0.030573\n",
            "Epoch 68/100 : Train loss = 0.033577 - Validation loss = 0.030527\n",
            "Epoch 69/100 : Train loss = 0.033557 - Validation loss = 0.030486\n",
            "Epoch 70/100 : Train loss = 0.033541 - Validation loss = 0.030449\n",
            "Epoch 71/100 : Train loss = 0.033525 - Validation loss = 0.030415\n",
            "Epoch 72/100 : Train loss = 0.033511 - Validation loss = 0.030384\n",
            "Epoch 73/100 : Train loss = 0.033498 - Validation loss = 0.030355\n",
            "Epoch 74/100 : Train loss = 0.033486 - Validation loss = 0.030330\n",
            "Epoch 75/100 : Train loss = 0.033475 - Validation loss = 0.030307\n",
            "Epoch 76/100 : Train loss = 0.033465 - Validation loss = 0.030286\n",
            "Epoch 77/100 : Train loss = 0.033455 - Validation loss = 0.030265\n",
            "Epoch 78/100 : Train loss = 0.033446 - Validation loss = 0.030246\n",
            "Epoch 79/100 : Train loss = 0.033437 - Validation loss = 0.030227\n",
            "Epoch 80/100 : Train loss = 0.033428 - Validation loss = 0.030208\n",
            "Epoch 81/100 : Train loss = 0.033420 - Validation loss = 0.030191\n",
            "Epoch 82/100 : Train loss = 0.033412 - Validation loss = 0.030175\n",
            "Epoch 83/100 : Train loss = 0.033404 - Validation loss = 0.030160\n",
            "Epoch 84/100 : Train loss = 0.033397 - Validation loss = 0.030146\n",
            "Epoch 85/100 : Train loss = 0.033390 - Validation loss = 0.030133\n",
            "Epoch 86/100 : Train loss = 0.033383 - Validation loss = 0.030121\n",
            "Epoch 87/100 : Train loss = 0.033377 - Validation loss = 0.030109\n",
            "Epoch 88/100 : Train loss = 0.033371 - Validation loss = 0.030098\n",
            "Epoch 89/100 : Train loss = 0.033364 - Validation loss = 0.030086\n",
            "Epoch 90/100 : Train loss = 0.033358 - Validation loss = 0.030076\n",
            "Epoch 91/100 : Train loss = 0.033353 - Validation loss = 0.030067\n",
            "Epoch 92/100 : Train loss = 0.033347 - Validation loss = 0.030058\n",
            "Epoch 93/100 : Train loss = 0.033342 - Validation loss = 0.030050\n",
            "Epoch 94/100 : Train loss = 0.033336 - Validation loss = 0.030041\n",
            "Epoch 95/100 : Train loss = 0.033331 - Validation loss = 0.030033\n",
            "Epoch 96/100 : Train loss = 0.033326 - Validation loss = 0.030025\n",
            "Epoch 97/100 : Train loss = 0.033321 - Validation loss = 0.030018\n",
            "Epoch 98/100 : Train loss = 0.033316 - Validation loss = 0.030012\n",
            "Epoch 99/100 : Train loss = 0.033311 - Validation loss = 0.030005\n"
          ]
        },
        {
          "data": {
            "image/png": "[encoded data removed]",
            "text/plain": [
              "<Figure size 432x288 with 1 Axes>"
            ]
          },
          "metadata": {
            "needs_background": "light"
          },
          "output_type": "display_data"
        }
      ],
      "source": [
        "#Fitting Model\n",
        "MLP = Multi_Layer_Perceptron(0.0015, 7)\n",
        "train_costs, validation_costs = MLP.train(x_train, y_train, x_validation, y_validation, epochs = 100)\n",
        "#Time to plot our result\n",
        "plot_loss(train_costs, validation_costs, numofepoch=100)"
      ]
    },
    {
      "cell_type": "markdown",
      "metadata": {
        "id": "BLwb33JBsv2n"
      },
      "source": [
        "***Evaluating Our predict with the real Sin***"
      ]
    },
    {
      "cell_type": "code",
      "execution_count": null,
      "metadata": {
        "colab": {
          "base_uri": "https://localhost:8080/",
          "height": 283
        },
        "id": "tvPliQqqBNcD",
        "outputId": "b0254433-9daa-40d0-d1ae-804bae9ecf28"
      },
      "outputs": [
        {
          "name": "stdout",
          "output_type": "stream",
          "text": [
            "Test Loss= 0.039404\n"
          ]
        },
        {
          "data": {
            "image/png": "[encoded data removed]",
            "text/plain": [
              "<Figure size 432x288 with 1 Axes>"
            ]
          },
          "metadata": {
            "needs_background": "light"
          },
          "output_type": "display_data"
        }
      ],
      "source": [
        "#Time to observe our Loss\n",
        "ye = MLP.expected(x_test)\n",
        "ye = np.array(ye).reshape((len(ye), 1))\n",
        "print('Test Loss= %f' % L2_Loss(ye, y_test))\n",
        "\n",
        "#generating test data for Sin and making it in a true shape\n",
        "x, x_sin = sin_data_generating(x_train)\n",
        "\n",
        "#prediction\n",
        "ye = MLP.expected(x_sin)\n",
        "ye = np.array(ye).reshape((1000, 1))\n",
        "#Real Sin\n",
        "ysin = np.sin(x)\n",
        "\n",
        "#Time to see our prediction\n",
        "plt.plot(x, ye, 'r')\n",
        "plt.plot(x, ysin, 'g')\n",
        "plt.show()"
      ]
    }
  ],
  "metadata": {
    "colab": {
      "collapsed_sections": [],
      "name": "Q2 (4).ipynb",
      "provenance": []
    },
    "kernelspec": {
      "display_name": "Python 3",
      "language": "python",
      "name": "python3"
    },
    "language_info": {
      "codemirror_mode": {
        "name": "ipython",
        "version": 3
      },
      "file_extension": ".py",
      "mimetype": "text/x-python",
      "name": "python",
      "nbconvert_exporter": "python",
      "pygments_lexer": "ipython3",
      "version": "3.8.8"
    }
  },
  "nbformat": 4,
  "nbformat_minor": 0
}